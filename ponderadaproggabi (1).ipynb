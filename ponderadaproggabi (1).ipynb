{
  "nbformat": 4,
  "nbformat_minor": 0,
  "metadata": {
    "colab": {
      "provenance": []
    },
    "kernelspec": {
      "name": "python3",
      "display_name": "Python 3"
    },
    "language_info": {
      "name": "python"
    }
  },
  "cells": [
    {
      "cell_type": "code",
      "execution_count": 1,
      "metadata": {
        "colab": {
          "base_uri": "https://localhost:8080/"
        },
        "id": "IJMStevwEyzj",
        "outputId": "39499a45-a9e5-45f6-8040-fd5300f7944d"
      },
      "outputs": [
        {
          "output_type": "stream",
          "name": "stdout",
          "text": [
            "Mounted at /content/drive\n"
          ]
        }
      ],
      "source": [
        "from google.colab import drive\n",
        "drive.mount('/content/drive')"
      ]
    },
    {
      "cell_type": "code",
      "source": [
        "!pip install xgboost\n"
      ],
      "metadata": {
        "colab": {
          "base_uri": "https://localhost:8080/"
        },
        "id": "5Y1Z-Di5NDnG",
        "outputId": "ef17dd16-c167-479c-8665-bf065792748a"
      },
      "execution_count": 52,
      "outputs": [
        {
          "output_type": "stream",
          "name": "stdout",
          "text": [
            "Requirement already satisfied: xgboost in /usr/local/lib/python3.10/dist-packages (2.1.1)\n",
            "Requirement already satisfied: numpy in /usr/local/lib/python3.10/dist-packages (from xgboost) (1.26.4)\n",
            "Requirement already satisfied: nvidia-nccl-cu12 in /usr/local/lib/python3.10/dist-packages (from xgboost) (2.22.3)\n",
            "Requirement already satisfied: scipy in /usr/local/lib/python3.10/dist-packages (from xgboost) (1.13.1)\n"
          ]
        }
      ]
    },
    {
      "cell_type": "code",
      "source": [
        "# Bibliotecas\n",
        "import pandas as pd\n",
        "import numpy as np\n",
        "from sklearn.model_selection import train_test_split, GridSearchCV, RandomizedSearchCV\n",
        "from sklearn.preprocessing import StandardScaler\n",
        "from sklearn.metrics import classification_report, roc_auc_score\n",
        "from xgboost import XGBClassifier\n",
        "\n",
        "# caminho drive\n",
        "file_path = '/content/drive/MyDrive/dados cartão/creditcard.csv'\n",
        "\n",
        "df = pd.read_csv(file_path)\n",
        "\n",
        "# Verificar os dados\n",
        "print(df.info())\n",
        "\n",
        "# Normalização\n",
        "scaler = StandardScaler()\n",
        "X = scaler.fit_transform(df.drop('Class', axis=1))\n",
        "y = df['Class']\n",
        "\n",
        "# Dividir dados em treino e teste\n",
        "X_train, X_test, y_train, y_test = train_test_split(X, y, test_size=0.3, random_state=42)\n",
        "\n",
        "# Definir o modelo XGBoost\n",
        "model = XGBClassifier(eval_metric='logloss')\n",
        "\n",
        "# Definir os parâmetros para Grid Search com valores reduzidos\n",
        "param_grid = {\n",
        "    'n_estimators': [50, 100],\n",
        "    'max_depth': [3, 6],\n",
        "    'learning_rate': [0.01, 0.1],\n",
        "    'subsample': [0.8, 1.0]\n",
        "}\n",
        "\n",
        "# Grid Search com um número menor de combinações e iterações\n",
        "grid = GridSearchCV(model, param_grid, scoring='roc_auc', cv=2, verbose=1)\n",
        "grid_result = grid.fit(X_train, y_train)\n",
        "\n",
        "# Resultados do Grid Search\n",
        "print(\"Melhor Grid Search: %f usando %s\" % (grid_result.best_score_, grid_result.best_params_))\n",
        "\n",
        "# Treinar e avaliar o modelo otimizado do Grid Search\n",
        "best_model = grid_result.best_estimator_\n",
        "y_pred_best = best_model.predict(X_test)\n",
        "print(\"AUC-ROC Otimizado com Grid Search:\", roc_auc_score(y_test, y_pred_best))\n",
        "\n",
        "# Definir parâmetros para Random Search com valores reduzidos\n",
        "param_dist = {\n",
        "    'n_estimators': [50, 100],\n",
        "    'max_depth': [3, 6],\n",
        "    'learning_rate': [0.01, 0.1],\n",
        "    'subsample': [0.8, 1.0]\n",
        "}\n",
        "\n",
        "# Random Search com menos iterações\n",
        "random_search = RandomizedSearchCV(model, param_distributions=param_dist, n_iter=5, scoring='roc_auc', cv=2, verbose=1, random_state=42)\n",
        "random_result = random_search.fit(X_train, y_train)\n",
        "\n",
        "# Resultados do Random Search\n",
        "print(\"Melhor Random Search: %f usando %s\" % (random_result.best_score_, random_result.best_params_))\n",
        "\n",
        "# Treinar e avaliar o modelo otimizado do Random Search\n",
        "best_model_random = random_result.best_estimator_\n",
        "y_pred_best_random = best_model_random.predict(X_test)\n",
        "print(\"AUC-ROC Otimizado com Random Search:\", roc_auc_score(y_test, y_pred_best_random))\n",
        "\n",
        "# Modelo Original\n",
        "original_model = XGBClassifier(eval_metric='logloss')\n",
        "original_model.fit(X_train, y_train)\n",
        "y_pred_original = original_model.predict(X_test)\n",
        "\n",
        "# Comparação dos Resultados\n",
        "print(\"\\nComparação dos Resultados:\")\n",
        "print(f\"AUC-ROC Modelo Original: {roc_auc_score(y_test, y_pred_original)}\")\n",
        "print(f\"AUC-ROC Melhor Modelo Otimizado com Grid Search: {roc_auc_score(y_test, y_pred_best)}\")\n",
        "print(f\"AUC-ROC Melhor Modelo Otimizado com Random Search: {roc_auc_score(y_test, y_pred_best_random)}\")\n"
      ],
      "metadata": {
        "colab": {
          "base_uri": "https://localhost:8080/"
        },
        "id": "YIXWlEqzNrAM",
        "outputId": "355fd241-0fed-455c-b307-4d631e4793ac"
      },
      "execution_count": 56,
      "outputs": [
        {
          "output_type": "stream",
          "name": "stdout",
          "text": [
            "<class 'pandas.core.frame.DataFrame'>\n",
            "RangeIndex: 284807 entries, 0 to 284806\n",
            "Data columns (total 31 columns):\n",
            " #   Column  Non-Null Count   Dtype  \n",
            "---  ------  --------------   -----  \n",
            " 0   Time    284807 non-null  float64\n",
            " 1   V1      284807 non-null  float64\n",
            " 2   V2      284807 non-null  float64\n",
            " 3   V3      284807 non-null  float64\n",
            " 4   V4      284807 non-null  float64\n",
            " 5   V5      284807 non-null  float64\n",
            " 6   V6      284807 non-null  float64\n",
            " 7   V7      284807 non-null  float64\n",
            " 8   V8      284807 non-null  float64\n",
            " 9   V9      284807 non-null  float64\n",
            " 10  V10     284807 non-null  float64\n",
            " 11  V11     284807 non-null  float64\n",
            " 12  V12     284807 non-null  float64\n",
            " 13  V13     284807 non-null  float64\n",
            " 14  V14     284807 non-null  float64\n",
            " 15  V15     284807 non-null  float64\n",
            " 16  V16     284807 non-null  float64\n",
            " 17  V17     284807 non-null  float64\n",
            " 18  V18     284807 non-null  float64\n",
            " 19  V19     284807 non-null  float64\n",
            " 20  V20     284807 non-null  float64\n",
            " 21  V21     284807 non-null  float64\n",
            " 22  V22     284807 non-null  float64\n",
            " 23  V23     284807 non-null  float64\n",
            " 24  V24     284807 non-null  float64\n",
            " 25  V25     284807 non-null  float64\n",
            " 26  V26     284807 non-null  float64\n",
            " 27  V27     284807 non-null  float64\n",
            " 28  V28     284807 non-null  float64\n",
            " 29  Amount  284807 non-null  float64\n",
            " 30  Class   284807 non-null  int64  \n",
            "dtypes: float64(30), int64(1)\n",
            "memory usage: 67.4 MB\n",
            "None\n",
            "Fitting 2 folds for each of 16 candidates, totalling 32 fits\n",
            "Melhor Grid Search: 0.973590 usando {'learning_rate': 0.1, 'max_depth': 6, 'n_estimators': 100, 'subsample': 0.8}\n",
            "AUC-ROC Otimizado com Grid Search: 0.911729538780005\n",
            "Fitting 2 folds for each of 5 candidates, totalling 10 fits\n",
            "Melhor Random Search: 0.973590 usando {'subsample': 0.8, 'n_estimators': 100, 'max_depth': 6, 'learning_rate': 0.1}\n",
            "AUC-ROC Otimizado com Random Search: 0.911729538780005\n",
            "\n",
            "Comparação dos Resultados:\n",
            "AUC-ROC Modelo Original: 0.9080413458243203\n",
            "AUC-ROC Melhor Modelo Otimizado com Grid Search: 0.911729538780005\n",
            "AUC-ROC Melhor Modelo Otimizado com Random Search: 0.911729538780005\n"
          ]
        }
      ]
    },
    {
      "cell_type": "markdown",
      "source": [
        "# Análise e Ajuste do Modelo de Detecção de Fraudes em Cartões de Crédito\n",
        "\n",
        "1. **Treinamento do Modelo Original:**\n",
        " Foi feito um modelo XGBoost treinado com os dados fornecidos. O desempenho inicial do modelo foi avaliado utilizando a métrica AUC-ROC.\n",
        "\n",
        "**Resultados:** O AUC-ROC do modelo original foi de 0.908.\n",
        "\n",
        "**Próximos Passos:** Validar a eficácia do modelo original e considerar ajustes adicionais para melhorar o desempenho.\n",
        "\n",
        "\n",
        "\n",
        "\n",
        "\n",
        "2. **Definição e Implementação de Hiperparâmetros:**\n",
        "\n",
        "Foram definidos intervalos de valores para os hiperparâmetros do XGBoost, Grid Search e Random Search para encontrar a melhor configuração.\n",
        "\n",
        "**Resultados do Grid Search:** O melhor desempenho obtido foi um AUC-ROC de 0.912 com os parâmetros {'learning_rate': 0.1, 'max_depth': 6, 'n_estimators': 100, 'subsample': 0.8}.\n",
        "\n",
        "\n",
        "**Resultados do Random Search:** O melhor desempenho foi idêntico ao do Grid Search, com um AUC-ROC de 0.912 com os mesmos parâmetros.\n",
        "\n",
        "\n",
        "**Próximos Passos:** Ampliar o intervalo de valores para os hiperparâmetros ou explorar técnicas adicionais de otimização, como Bayesian Optimization.\n",
        "\n",
        "\n",
        "3. **Comparação de Resultados:**\n",
        "\n",
        "AUC-ROC do Modelo Original: 0.908\n",
        "\n",
        "\n",
        "AUC-ROC do Melhor Modelo Otimizado com Grid Search: 0.912\n",
        "\n",
        "\n",
        "AUC-ROC do Melhor Modelo Otimizado com Random Search: 0.912\n",
        "\n",
        "\n",
        "**Próximos Passos:** Realizar uma análise detalhada das métricas de desempenho, como precisão, recall e F1-score. Avaliar a significância das melhorias observadas.\n",
        "\n",
        "\n",
        "4. **Análise Adicional dos Dados:**\n",
        "\n",
        "Embora a normalização dos dados tenha sido realizada, uma análise mais aprofundada pode revelar padrões importantes ou problemas potenciais.\n",
        "\n",
        "**Próximos Passos:** Conduzir uma análise exploratória dos dados para identificar correlações, padrões, e verificar a presença de valores ausentes ou desequilíbrios na classe.\n",
        "\n",
        "\n",
        "\n",
        "5. **Validação Cruzada Avançada:**\n",
        "\n",
        "A validação cruzada realizada foi básica. Implementar uma validação cruzada mais robusta pode ajudar a garantir que o modelo seja generalizável.\n",
        "\n",
        "\n",
        "**Próximos Passos:** Aplicar K-Fold Cross-Validation para garantir que o modelo performe bem e evitar sobreajuste.\n",
        "\n"
      ],
      "metadata": {
        "id": "yH6XnoENTufV"
      }
    }
  ]
}